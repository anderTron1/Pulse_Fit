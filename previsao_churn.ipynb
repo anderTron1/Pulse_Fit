{
 "cells": [
  {
   "cell_type": "code",
   "execution_count": 101,
   "id": "db7a6089-aaaf-4040-97c7-e5d9d66c7481",
   "metadata": {},
   "outputs": [],
   "source": [
    "import pandas as pd \n",
    "import sqlite3\n",
    "from sklearn.model_selection import train_test_split\n",
    "from sklearn.linear_model import LogisticRegression\n",
    "from sklearn.ensemble import RandomForestClassifier\n",
    "from xgboost import XGBClassifier\n",
    "\n",
    "from sklearn.metrics import classification_report , accuracy_score\n",
    "from sklearn.preprocessing import LabelEncoder\n",
    "\n",
    "from sklearn.model_selection import cross_val_score\n",
    "\n",
    "from sklearn.model_selection import learning_curve\n",
    "import matplotlib.pyplot as plt"
   ]
  },
  {
   "cell_type": "code",
   "execution_count": 103,
   "id": "751c805a",
   "metadata": {},
   "outputs": [],
   "source": [
    "# OBSERVANDO OVERFITTING\n",
    "def curva_aprendizado(model):\n",
    "    train_sizes, train_scores, val_scores = learning_curve(model, x_train, y_train, cv=5)\n",
    "\n",
    "\n",
    "    train_scores_mean = train_scores.mean(axis=1)\n",
    "    val_scores_mean = val_scores.mean(axis=1)\n",
    "\n",
    "    plt.plot(train_sizes, train_scores_mean, label=\"Treino\")\n",
    "    plt.plot(train_sizes, val_scores_mean, label=\"Validação\")\n",
    "    plt.legend()\n",
    "    plt.title(\"Curva de Aprendizado\")\n",
    "    plt.show()"
   ]
  },
  {
   "cell_type": "code",
   "execution_count": 146,
   "id": "1c3c9839-8834-40c7-a4df-739de9b2d5c9",
   "metadata": {},
   "outputs": [],
   "source": [
    "conexao = sqlite3.connect(r'instance/pulsefit.db')\n",
    "\n",
    "script = '''\n",
    "SELECT --mes_semana,\n",
    "\t   dias_presentes,\n",
    "\t   dias_desde_ultimo_checkin, \n",
    "\t   duracao_media_horas, \n",
    "\t   NOME_PLANO \n",
    "\t   FROM (SELECT  \n",
    "\t\t\tC.ID,\n",
    "\t\t\tC.NOME,\n",
    "\t\t\tstrftime('%m-%W', dt_checkin) AS mes_semana,\n",
    "\t\t\tCOUNT(DISTINCT date(ch.dt_checkin)) AS dias_presentes,\n",
    "\t\t\tMAX(dt_checkin) AS ultimo_checkin,\n",
    "\t\t\tROUND(julianday('now') - julianday(MAX(dt_checkin))) AS dias_desde_ultimo_checkin,\n",
    "\t\t\tROUND(AVG((julianday(dt_checkout) - julianday(dt_checkin)) * 24), 2) AS duracao_media_horas,\n",
    "\t\t\tC.ID AS ID_PLANO,\n",
    "\t\t\tP.plano AS NOME_PLANO\n",
    "\t\t FROM CLIENTE C, PLANO P, checkin CH WHERE C.PLANO = P.ID AND CH.CLIENTE_ID = C.ID \n",
    "\t\t GROUP BY C.ID, C.NOME, mes_semana)\n",
    "'''\n",
    "\n",
    "df = pd.read_sql(script, conexao)\n"
   ]
  },
  {
   "cell_type": "code",
   "execution_count": 147,
   "id": "3949be2d",
   "metadata": {},
   "outputs": [
    {
     "name": "stdout",
     "output_type": "stream",
     "text": [
      "Quantidade de dados:  (744, 4)\n"
     ]
    }
   ],
   "source": [
    "print(\"Quantidade de dados: \", df.shape)"
   ]
  },
  {
   "cell_type": "code",
   "execution_count": 148,
   "id": "168f6d5f",
   "metadata": {},
   "outputs": [
    {
     "data": {
      "text/html": [
       "<div>\n",
       "<style scoped>\n",
       "    .dataframe tbody tr th:only-of-type {\n",
       "        vertical-align: middle;\n",
       "    }\n",
       "\n",
       "    .dataframe tbody tr th {\n",
       "        vertical-align: top;\n",
       "    }\n",
       "\n",
       "    .dataframe thead th {\n",
       "        text-align: right;\n",
       "    }\n",
       "</style>\n",
       "<table border=\"1\" class=\"dataframe\">\n",
       "  <thead>\n",
       "    <tr style=\"text-align: right;\">\n",
       "      <th></th>\n",
       "      <th>dias_presentes</th>\n",
       "      <th>dias_desde_ultimo_checkin</th>\n",
       "      <th>duracao_media_horas</th>\n",
       "      <th>NOME_PLANO</th>\n",
       "    </tr>\n",
       "  </thead>\n",
       "  <tbody>\n",
       "    <tr>\n",
       "      <th>0</th>\n",
       "      <td>3</td>\n",
       "      <td>109.0</td>\n",
       "      <td>28.49</td>\n",
       "      <td>Plano Black</td>\n",
       "    </tr>\n",
       "    <tr>\n",
       "      <th>1</th>\n",
       "      <td>2</td>\n",
       "      <td>106.0</td>\n",
       "      <td>36.18</td>\n",
       "      <td>Plano Black</td>\n",
       "    </tr>\n",
       "    <tr>\n",
       "      <th>2</th>\n",
       "      <td>7</td>\n",
       "      <td>94.0</td>\n",
       "      <td>34.80</td>\n",
       "      <td>Plano Black</td>\n",
       "    </tr>\n",
       "    <tr>\n",
       "      <th>3</th>\n",
       "      <td>7</td>\n",
       "      <td>87.0</td>\n",
       "      <td>27.86</td>\n",
       "      <td>Plano Black</td>\n",
       "    </tr>\n",
       "    <tr>\n",
       "      <th>4</th>\n",
       "      <td>5</td>\n",
       "      <td>82.0</td>\n",
       "      <td>34.79</td>\n",
       "      <td>Plano Black</td>\n",
       "    </tr>\n",
       "    <tr>\n",
       "      <th>...</th>\n",
       "      <td>...</td>\n",
       "      <td>...</td>\n",
       "      <td>...</td>\n",
       "      <td>...</td>\n",
       "    </tr>\n",
       "    <tr>\n",
       "      <th>739</th>\n",
       "      <td>7</td>\n",
       "      <td>31.0</td>\n",
       "      <td>29.65</td>\n",
       "      <td>Plano Básico</td>\n",
       "    </tr>\n",
       "    <tr>\n",
       "      <th>740</th>\n",
       "      <td>7</td>\n",
       "      <td>24.0</td>\n",
       "      <td>38.85</td>\n",
       "      <td>Plano Básico</td>\n",
       "    </tr>\n",
       "    <tr>\n",
       "      <th>741</th>\n",
       "      <td>1</td>\n",
       "      <td>23.0</td>\n",
       "      <td>16.70</td>\n",
       "      <td>Plano Básico</td>\n",
       "    </tr>\n",
       "    <tr>\n",
       "      <th>742</th>\n",
       "      <td>2</td>\n",
       "      <td>21.0</td>\n",
       "      <td>47.46</td>\n",
       "      <td>Plano Básico</td>\n",
       "    </tr>\n",
       "    <tr>\n",
       "      <th>743</th>\n",
       "      <td>4</td>\n",
       "      <td>4.0</td>\n",
       "      <td>42.14</td>\n",
       "      <td>Plano Básico</td>\n",
       "    </tr>\n",
       "  </tbody>\n",
       "</table>\n",
       "<p>744 rows × 4 columns</p>\n",
       "</div>"
      ],
      "text/plain": [
       "     dias_presentes  dias_desde_ultimo_checkin  duracao_media_horas  \\\n",
       "0                 3                      109.0                28.49   \n",
       "1                 2                      106.0                36.18   \n",
       "2                 7                       94.0                34.80   \n",
       "3                 7                       87.0                27.86   \n",
       "4                 5                       82.0                34.79   \n",
       "..              ...                        ...                  ...   \n",
       "739               7                       31.0                29.65   \n",
       "740               7                       24.0                38.85   \n",
       "741               1                       23.0                16.70   \n",
       "742               2                       21.0                47.46   \n",
       "743               4                        4.0                42.14   \n",
       "\n",
       "       NOME_PLANO  \n",
       "0     Plano Black  \n",
       "1     Plano Black  \n",
       "2     Plano Black  \n",
       "3     Plano Black  \n",
       "4     Plano Black  \n",
       "..            ...  \n",
       "739  Plano Básico  \n",
       "740  Plano Básico  \n",
       "741  Plano Básico  \n",
       "742  Plano Básico  \n",
       "743  Plano Básico  \n",
       "\n",
       "[744 rows x 4 columns]"
      ]
     },
     "execution_count": 148,
     "metadata": {},
     "output_type": "execute_result"
    }
   ],
   "source": [
    "df"
   ]
  },
  {
   "cell_type": "code",
   "execution_count": 149,
   "id": "4cfb231c",
   "metadata": {},
   "outputs": [
    {
     "data": {
      "text/plain": [
       "NOME_PLANO\n",
       "Plano Básico    316\n",
       "Plano Fit       217\n",
       "Plano Black     211\n",
       "Name: count, dtype: int64"
      ]
     },
     "execution_count": 149,
     "metadata": {},
     "output_type": "execute_result"
    }
   ],
   "source": [
    "df['NOME_PLANO'].value_counts()"
   ]
  },
  {
   "cell_type": "markdown",
   "id": "1e7c6001",
   "metadata": {},
   "source": [
    "## 1 - TRATANDO DADOS"
   ]
  },
  {
   "cell_type": "markdown",
   "id": "61f5526f",
   "metadata": {},
   "source": [
    "### 1.1 - Definindo cancelamento para clientes com dias desde o ultimo checkin como maior de 30 e dias presente menor que 4"
   ]
  },
  {
   "cell_type": "code",
   "execution_count": 150,
   "id": "5948eb28",
   "metadata": {},
   "outputs": [],
   "source": [
    "df['cancelou'] = df.apply(\n",
    "    lambda row: 1 if row['dias_desde_ultimo_checkin'] > 30 and row['dias_presentes'] < 4 else 0, \n",
    "    axis=1\n",
    ")"
   ]
  },
  {
   "cell_type": "code",
   "execution_count": 151,
   "id": "43be0f7a",
   "metadata": {},
   "outputs": [
    {
     "data": {
      "text/plain": [
       "cancelou\n",
       "0    510\n",
       "1    234\n",
       "Name: count, dtype: int64"
      ]
     },
     "execution_count": 151,
     "metadata": {},
     "output_type": "execute_result"
    }
   ],
   "source": [
    "df['cancelou'].value_counts()"
   ]
  },
  {
   "cell_type": "markdown",
   "id": "13e9285c",
   "metadata": {},
   "source": [
    "### 1.2 - TRANSFORMANDO VALORES CATEGORICOS EM NUMERICOS "
   ]
  },
  {
   "cell_type": "code",
   "execution_count": 152,
   "id": "348ed298",
   "metadata": {},
   "outputs": [],
   "source": [
    "labelEncoder = LabelEncoder()\n",
    "df['NOME_PLANO'] = labelEncoder.fit_transform(df['NOME_PLANO'])"
   ]
  },
  {
   "cell_type": "markdown",
   "id": "9f22f205",
   "metadata": {},
   "source": [
    "## 2 - DIVISÃO DOS DADOS"
   ]
  },
  {
   "cell_type": "code",
   "execution_count": 153,
   "id": "11a929b4",
   "metadata": {},
   "outputs": [],
   "source": [
    "x = df[['dias_presentes', 'dias_desde_ultimo_checkin', 'duracao_media_horas', 'NOME_PLANO']]\n",
    "y = df['cancelou']"
   ]
  },
  {
   "cell_type": "code",
   "execution_count": 154,
   "id": "0760b21d",
   "metadata": {},
   "outputs": [],
   "source": [
    "x_train, x_test, y_train, y_test = train_test_split(x, y, test_size=0.2, random_state=42)"
   ]
  },
  {
   "cell_type": "markdown",
   "id": "e698697d",
   "metadata": {},
   "source": [
    "3 - TREINANDO MODELOS"
   ]
  },
  {
   "cell_type": "code",
   "execution_count": 155,
   "id": "24ffef85",
   "metadata": {},
   "outputs": [],
   "source": [
    "logistic_model = LogisticRegression()\n",
    "\n",
    "rf_model = RandomForestClassifier(random_state=42)\n",
    "xgb_model = XGBClassifier()\n",
    "\n",
    "logistic_model.fit(x_train, y_train)\n",
    "rf_model.fit(x_train, y_train)\n",
    "xgb_model.fit(x_train, y_train)\n",
    "\n",
    "rf_preds = rf_model.predict(x_test)\n",
    "xgb_preds = xgb_model.predict(x_test)\n",
    "logistic_pred = logistic_model.predict(x_test)"
   ]
  },
  {
   "cell_type": "markdown",
   "id": "f8bda57b",
   "metadata": {},
   "source": [
    "#### 3.1 - AVALIANDO MODELOS"
   ]
  },
  {
   "cell_type": "code",
   "execution_count": 156,
   "id": "9f41590b",
   "metadata": {},
   "outputs": [
    {
     "name": "stdout",
     "output_type": "stream",
     "text": [
      "Regressão Logistica\n",
      "               precision    recall  f1-score   support\n",
      "\n",
      "           0       0.93      0.88      0.90       101\n",
      "           1       0.77      0.85      0.81        48\n",
      "\n",
      "    accuracy                           0.87       149\n",
      "   macro avg       0.85      0.87      0.86       149\n",
      "weighted avg       0.88      0.87      0.87       149\n",
      "\n",
      "Arvore Randomica\n",
      "               precision    recall  f1-score   support\n",
      "\n",
      "           0       1.00      1.00      1.00       101\n",
      "           1       1.00      1.00      1.00        48\n",
      "\n",
      "    accuracy                           1.00       149\n",
      "   macro avg       1.00      1.00      1.00       149\n",
      "weighted avg       1.00      1.00      1.00       149\n",
      "\n",
      "XGB\n",
      "               precision    recall  f1-score   support\n",
      "\n",
      "           0       1.00      1.00      1.00       101\n",
      "           1       1.00      1.00      1.00        48\n",
      "\n",
      "    accuracy                           1.00       149\n",
      "   macro avg       1.00      1.00      1.00       149\n",
      "weighted avg       1.00      1.00      1.00       149\n",
      "\n"
     ]
    }
   ],
   "source": [
    "\n",
    "print('Regressão Logistica\\n', classification_report(y_test, logistic_pred))\n",
    "print('Arvore Randomica\\n', classification_report(y_test, rf_preds))\n",
    "print('XGB\\n', classification_report(y_test, xgb_preds))"
   ]
  },
  {
   "cell_type": "code",
   "execution_count": 157,
   "id": "89c0f98e",
   "metadata": {},
   "outputs": [
    {
     "data": {
      "text/plain": [
       "dias_presentes                 2.00\n",
       "dias_desde_ultimo_checkin    106.00\n",
       "duracao_media_horas           36.18\n",
       "NOME_PLANO                     0.00\n",
       "Name: 1, dtype: float64"
      ]
     },
     "execution_count": 157,
     "metadata": {},
     "output_type": "execute_result"
    }
   ],
   "source": [
    "df.loc[1].iloc[:4]"
   ]
  },
  {
   "cell_type": "code",
   "execution_count": 173,
   "id": "31e56360",
   "metadata": {},
   "outputs": [
    {
     "data": {
      "text/plain": [
       "dias_presentes                7.0\n",
       "dias_desde_ultimo_checkin    94.0\n",
       "duracao_media_horas          34.8\n",
       "NOME_PLANO                    0.0\n",
       "cancelou                      0.0\n",
       "Name: 2, dtype: float64"
      ]
     },
     "execution_count": 173,
     "metadata": {},
     "output_type": "execute_result"
    }
   ],
   "source": [
    "df.loc[2].iloc[:5]"
   ]
  },
  {
   "cell_type": "code",
   "execution_count": 174,
   "id": "31ddbb50",
   "metadata": {},
   "outputs": [
    {
     "name": "stderr",
     "output_type": "stream",
     "text": [
      "c:\\Users\\user\\Documents\\estudos\\flask\\entrevista de emprego\\Pulse_Fit\\venv\\Lib\\site-packages\\sklearn\\utils\\validation.py:2739: UserWarning: X does not have valid feature names, but LogisticRegression was fitted with feature names\n",
      "  warnings.warn(\n"
     ]
    },
    {
     "data": {
      "text/plain": [
       "array([[0.99826374, 0.00173626]])"
      ]
     },
     "execution_count": 174,
     "metadata": {},
     "output_type": "execute_result"
    }
   ],
   "source": [
    "previsoes = logistic_model.predict_proba([df.loc[2].iloc[:4]])\n",
    "previsoes"
   ]
  },
  {
   "cell_type": "markdown",
   "id": "4454d857",
   "metadata": {},
   "source": [
    "#### 3.2 - AVALIANDO DESEMPENHO DOS TREINAMENTOS"
   ]
  },
  {
   "cell_type": "code",
   "execution_count": 107,
   "id": "f6fab71f",
   "metadata": {},
   "outputs": [
    {
     "data": {
      "image/png": "[encoded data removed]",
      "text/plain": [
       "<Figure size 640x480 with 1 Axes>"
      ]
     },
     "metadata": {},
     "output_type": "display_data"
    }
   ],
   "source": [
    "curva_aprendizado(logistic_model)"
   ]
  },
  {
   "cell_type": "code",
   "execution_count": 108,
   "id": "586f7049",
   "metadata": {},
   "outputs": [
    {
     "data": {
      "image/png": "[encoded data removed]",
      "text/plain": [
       "<Figure size 640x480 with 1 Axes>"
      ]
     },
     "metadata": {},
     "output_type": "display_data"
    }
   ],
   "source": [
    "curva_aprendizado(rf_model)"
   ]
  },
  {
   "cell_type": "code",
   "execution_count": 112,
   "id": "32f3ec58",
   "metadata": {},
   "outputs": [
    {
     "data": {
      "image/png": "[encoded data removed]",
      "text/plain": [
       "<Figure size 640x480 with 1 Axes>"
      ]
     },
     "metadata": {},
     "output_type": "display_data"
    }
   ],
   "source": [
    "curva_aprendizado(xgb_model)"
   ]
  },
  {
   "cell_type": "markdown",
   "id": "39dac478",
   "metadata": {},
   "source": [
    "O modelo com melhor desempenho foi a Regressão Logística, alcançando uma acurácia geral de 87%, o que indica uma taxa elevada de acertos nas previsões sobre os dados de teste. As métricas de precisão, recall e f1-score apresentaram uma média ponderada próxima de 0.87, evidenciando um desempenho consistente e equilibrado entre as classes. Além disso, pelo gráfico de aprendizado, observa-se que as curvas de treinamento e validação estão próximas, o que sugere que o modelo está aprendendo de forma eficiente sem sinais evidentes de overfitting."
   ]
  }
 ],
 "metadata": {
  "kernelspec": {
   "display_name": "venv",
   "language": "python",
   "name": "python3"
  },
  "language_info": {
   "codemirror_mode": {
    "name": "ipython",
    "version": 3
   },
   "file_extension": ".py",
   "mimetype": "text/x-python",
   "name": "python",
   "nbconvert_exporter": "python",
   "pygments_lexer": "ipython3",
   "version": "3.12.2"
  }
 },
 "nbformat": 4,
 "nbformat_minor": 5
}
